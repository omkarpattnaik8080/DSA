{
  "nbformat": 4,
  "nbformat_minor": 0,
  "metadata": {
    "colab": {
      "provenance": [],
      "authorship_tag": "ABX9TyO4Hcem9ZL9Wybco25l3nnx",
      "include_colab_link": true
    },
    "kernelspec": {
      "name": "python3",
      "display_name": "Python 3"
    },
    "language_info": {
      "name": "python"
    }
  },
  "cells": [
    {
      "cell_type": "markdown",
      "metadata": {
        "id": "view-in-github",
        "colab_type": "text"
      },
      "source": [
        "<a href=\"https://colab.research.google.com/github/omkarpattnaik8080/DSA/blob/main/sortingProblems.ipynb\" target=\"_parent\"><img src=\"https://colab.research.google.com/assets/colab-badge.svg\" alt=\"Open In Colab\"/></a>"
      ]
    },
    {
      "cell_type": "code",
      "execution_count": null,
      "metadata": {
        "id": "46W9cakaH1O3"
      },
      "outputs": [],
      "source": [
        "#problem1:given an array of n numbers, give an algorithm which gives the element appearing maximum number of times?"
      ]
    },
    {
      "cell_type": "code",
      "source": [
        "def mostfrequent(nums,k):\n",
        "    maxcount=0;\n",
        "    maxfreqelement=0\n",
        "    for i in range(0,k):\n",
        "        count=0\n",
        "        for j in range(0,k):\n",
        "            if(nums[i]==nums[j]):\n",
        "                count+=1\n",
        "                if(count>maxcount):\n",
        "                    maxcount=count\n",
        "                    maxfreqelement=nums[i]\n",
        "    return maxfreqelement;\n",
        "#drivers code\n",
        "nums=[1,2,3,5,3,2,1,5,3,4,4,4,5]\n",
        "k=len(nums)\n",
        "print(mostfrequent(nums,k))"
      ],
      "metadata": {
        "colab": {
          "base_uri": "https://localhost:8080/"
        },
        "id": "AKa91FV0H6OU",
        "outputId": "fb9c719b-8b2d-435a-f675-36b574d9728d"
      },
      "execution_count": null,
      "outputs": [
        {
          "output_type": "stream",
          "name": "stdout",
          "text": [
            "3\n"
          ]
        }
      ]
    },
    {
      "cell_type": "code",
      "source": [
        "#problem2 We are given a list of n-1 integers and these integers are in the range of 1 to n . There are no duplicates in the list. One of the integers is missing in the list. Give an algorithm to find that element Ex:[1,2,4,6,3,7,8] 5 is the missing num."
      ],
      "metadata": {
        "id": "fg3HwwPjCUPY"
      },
      "execution_count": 1,
      "outputs": []
    },
    {
      "cell_type": "code",
      "source": [
        "def find_missing_number(nums):\n",
        "    n = len(nums) + 1\n",
        "    expected_sum = n * (n + 1) // 2\n",
        "    actual_sum = sum(nums)\n",
        "    missing_number = expected_sum - actual_sum\n",
        "    return missing_number\n",
        "\n",
        "# Example usage:\n",
        "input_list = [1, 2, 4, 6, 3, 7, 8]\n",
        "result = find_missing_number(input_list)\n",
        "print(\"The missing number is:\", result)\n"
      ],
      "metadata": {
        "colab": {
          "base_uri": "https://localhost:8080/"
        },
        "id": "832FEVe0CchB",
        "outputId": "6837a912-ec4f-4414-bbda-f6acc3d46128"
      },
      "execution_count": 2,
      "outputs": [
        {
          "output_type": "stream",
          "name": "stdout",
          "text": [
            "The missing number is: 5\n"
          ]
        }
      ]
    }
  ]
}