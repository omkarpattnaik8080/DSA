{
  "nbformat": 4,
  "nbformat_minor": 0,
  "metadata": {
    "colab": {
      "provenance": [],
      "authorship_tag": "ABX9TyNkBdeW3Rs23ARDpTFH7fS6",
      "include_colab_link": true
    },
    "kernelspec": {
      "name": "python3",
      "display_name": "Python 3"
    },
    "language_info": {
      "name": "python"
    }
  },
  "cells": [
    {
      "cell_type": "markdown",
      "metadata": {
        "id": "view-in-github",
        "colab_type": "text"
      },
      "source": [
        "<a href=\"https://colab.research.google.com/github/omkarpattnaik8080/DSA/blob/main/sortingProblems.ipynb\" target=\"_parent\"><img src=\"https://colab.research.google.com/assets/colab-badge.svg\" alt=\"Open In Colab\"/></a>"
      ]
    },
    {
      "cell_type": "code",
      "execution_count": null,
      "metadata": {
        "id": "46W9cakaH1O3"
      },
      "outputs": [],
      "source": [
        "#problem1:given an array of n numbers, give an algorithm which gives the element appearing maximum number of times?"
      ]
    },
    {
      "cell_type": "code",
      "source": [
        "def mostfrequent(nums,k):\n",
        "    maxcount=0;\n",
        "    maxfreqelement=0\n",
        "    for i in range(0,k):\n",
        "        count=0\n",
        "        for j in range(0,k):\n",
        "            if(nums[i]==nums[j]):\n",
        "                count+=1\n",
        "                if(count>maxcount):\n",
        "                    maxcount=count\n",
        "                    maxfreqelement=nums[i]\n",
        "    return maxfreqelement;\n",
        "#drivers code\n",
        "nums=[1,2,3,5,3,2,1,5,3,4,4,4,5]\n",
        "k=len(nums)\n",
        "print(mostfrequent(nums,k))"
      ],
      "metadata": {
        "colab": {
          "base_uri": "https://localhost:8080/"
        },
        "id": "AKa91FV0H6OU",
        "outputId": "fb9c719b-8b2d-435a-f675-36b574d9728d"
      },
      "execution_count": 1,
      "outputs": [
        {
          "output_type": "stream",
          "name": "stdout",
          "text": [
            "3\n"
          ]
        }
      ]
    }
  ]
}