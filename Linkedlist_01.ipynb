{
  "nbformat": 4,
  "nbformat_minor": 0,
  "metadata": {
    "colab": {
      "provenance": [],
      "authorship_tag": "ABX9TyPL9IqipCdcfn480gjHGqkC",
      "include_colab_link": true
    },
    "kernelspec": {
      "name": "python3",
      "display_name": "Python 3"
    },
    "language_info": {
      "name": "python"
    }
  },
  "cells": [
    {
      "cell_type": "markdown",
      "metadata": {
        "id": "view-in-github",
        "colab_type": "text"
      },
      "source": [
        "<a href=\"https://colab.research.google.com/github/omkarpattnaik8080/DSA/blob/main/Linkedlist_01.ipynb\" target=\"_parent\"><img src=\"https://colab.research.google.com/assets/colab-badge.svg\" alt=\"Open In Colab\"/></a>"
      ]
    },
    {
      "cell_type": "code",
      "execution_count": null,
      "metadata": {
        "id": "Odo97Ng04bJ-"
      },
      "outputs": [],
      "source": [
        "#define the list node\n",
        "class Node:\n",
        "  def __init__(self,data=none,next=None)\n",
        "    self.data=data\n",
        "    self.next=none\n",
        "#method to set the data value\n",
        "  def setData(self,data):\n",
        "    self.data=data\n",
        "#method to get the data value\n",
        "  def getData(self,data):\n",
        "    return self.data\n",
        "#method to set the next value\n",
        "  def setNext(self,next):\n",
        "    return self.next\n",
        "#method to get the next value\n",
        "  def getNext(self,next):\n",
        "    return self.next\n",
        "\n"
      ]
    }
  ]
}