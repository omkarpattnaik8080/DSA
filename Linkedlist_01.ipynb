{
  "nbformat": 4,
  "nbformat_minor": 0,
  "metadata": {
    "colab": {
      "provenance": [],
      "authorship_tag": "ABX9TyMOAJBeKoCcmsOUrw6d7Mnn",
      "include_colab_link": true
    },
    "kernelspec": {
      "name": "python3",
      "display_name": "Python 3"
    },
    "language_info": {
      "name": "python"
    }
  },
  "cells": [
    {
      "cell_type": "markdown",
      "metadata": {
        "id": "view-in-github",
        "colab_type": "text"
      },
      "source": [
        "<a href=\"https://colab.research.google.com/github/omkarpattnaik8080/DSA/blob/main/Linkedlist_01.ipynb\" target=\"_parent\"><img src=\"https://colab.research.google.com/assets/colab-badge.svg\" alt=\"Open In Colab\"/></a>"
      ]
    },
    {
      "cell_type": "code",
      "execution_count": 6,
      "metadata": {
        "id": "Odo97Ng04bJ-"
      },
      "outputs": [],
      "source": [
        "#define the list node\n",
        "class Node:\n",
        "  def __init__(self,data=None,next=None):\n",
        "    self.data=data\n",
        "    self.next=None\n",
        "#method to set the data value\n",
        "  def setData(self,data):\n",
        "    self.data=data\n",
        "#method to get the data value\n",
        "  def getData(self,data):\n",
        "    return self.data\n",
        "#method to set the next value\n",
        "  def setNext(self,next):\n",
        "    return self.next\n",
        "#method to get the next value\n",
        "  def getNext(self,next):\n",
        "    return self.next\n",
        "\n"
      ]
    },
    {
      "cell_type": "code",
      "source": [
        "#create a linkedlist-->collection of nodes\n",
        "head=Node(1)\n",
        "node2=Node(2)\n",
        "node3=Node(3)\n",
        "node4=Node(4)\n",
        "#creating the linkage\n",
        "head.setNext(node2)\n",
        "node2.setNext(node3)\n",
        "node3.setNext(node4)\n",
        "node4.setNext(None)"
      ],
      "metadata": {
        "id": "S1CmeSKJNWDt"
      },
      "execution_count": 7,
      "outputs": []
    }
  ]
}